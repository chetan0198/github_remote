{
 "cells": [
  {
   "cell_type": "code",
   "execution_count": 8,
   "id": "3145643d-92aa-446b-b850-bf9cd1046dc6",
   "metadata": {},
   "outputs": [
    {
     "name": "stderr",
     "output_type": "stream",
     "text": [
      "                                                                                \r"
     ]
    },
    {
     "name": "stdout",
     "output_type": "stream",
     "text": [
      "+--------------------------+------+------+------+\n",
      "|timestamp_key             |symbol|price |volume|\n",
      "+--------------------------+------+------+------+\n",
      "|2024-01-15 17:33:19.805397|AAPL  |371.85|701860|\n",
      "+--------------------------+------+------+------+\n",
      "\n"
     ]
    }
   ],
   "source": [
    "from pyspark.sql import SparkSession\n",
    "from pyspark.sql.types import StructType, StructField, StringType, DoubleType, IntegerType, TimestampType\n",
    "\n",
    "# Create a Spark session\n",
    "spark = SparkSession.builder.appName(\"ConvertToDataFrame\").getOrCreate()\n",
    "\n",
    "# Provided data\n",
    "data = [\n",
    "    ('2024-01-15 17:33:19.805397','AAPL',371.85,701860)\n",
    "]\n",
    "\n",
    "# Define schema for the DataFrame\n",
    "schema = StructType([\n",
    "    StructField(\"timestamp_key\", StringType(), True),\n",
    "    StructField(\"symbol\", StringType(), True),\n",
    "    StructField(\"price\", DoubleType(), True),\n",
    "    StructField(\"volume\", IntegerType(), True)\n",
    "])\n",
    "\n",
    "# Convert the data to a PySpark DataFrame\n",
    "df = spark.createDataFrame(data=data, schema=schema)\n",
    "\n",
    "# Show the DataFrame\n",
    "df.show(truncate=False)\n"
   ]
  },
  {
   "cell_type": "code",
   "execution_count": 2,
   "id": "3b9aeb4f-3b2e-4a41-99b8-3f29eb085134",
   "metadata": {},
   "outputs": [
    {
     "name": "stderr",
     "output_type": "stream",
     "text": [
      "24/01/16 12:27:48 WARN Utils: Your hostname, neosoft-Latitude-E7270 resolves to a loopback address: 127.0.1.1; using 10.0.61.175 instead (on interface wlp1s0)\n",
      "24/01/16 12:27:48 WARN Utils: Set SPARK_LOCAL_IP if you need to bind to another address\n",
      "Setting default log level to \"WARN\".\n",
      "To adjust logging level use sc.setLogLevel(newLevel). For SparkR, use setLogLevel(newLevel).\n",
      "24/01/16 12:27:49 WARN NativeCodeLoader: Unable to load native-hadoop library for your platform... using builtin-java classes where applicable\n"
     ]
    },
    {
     "name": "stdout",
     "output_type": "stream",
     "text": [
      "<class 'list'> <class 'dict'>\n"
     ]
    },
    {
     "name": "stderr",
     "output_type": "stream",
     "text": [
      "                                                                                \r"
     ]
    },
    {
     "name": "stdout",
     "output_type": "stream",
     "text": [
      "+----------+------+--------+\n",
      "|student_id|  name| address|\n",
      "+----------+------+--------+\n",
      "|        12|sravan|kakumanu|\n",
      "|        12|sravan|kakumanu|\n",
      "|        12|sravan|kakumanu|\n",
      "+----------+------+--------+\n",
      "\n"
     ]
    }
   ],
   "source": [
    "# importing module \n",
    "import pyspark \n",
    "\n",
    "# importing sparksession from \n",
    "# pyspark.sql module \n",
    "from pyspark.sql import SparkSession \n",
    "\n",
    "# creating sparksession and giving \n",
    "# an app name \n",
    "spark = SparkSession.builder.appName('sparkdf').getOrCreate() \n",
    "\n",
    "# list of college data with dictionary \n",
    "data = [{'student_id': 12, 'name': 'sravan','address': 'kakumanu'},\n",
    "       {'student_id': 12, 'name': 'sravan','address': 'kakumanu'},\n",
    "       {'student_id': 12, 'name': 'sravan','address': 'kakumanu'}]\n",
    "\n",
    "print(type(data),type(data[1]))\n",
    "\n",
    "# creating a dataframe \n",
    "dataframe = spark.createDataFrame(data,schema='student_id int,name string, address string') \n",
    "\n",
    "# show data frame \n",
    "dataframe.show() \n"
   ]
  },
  {
   "cell_type": "code",
   "execution_count": 1,
   "id": "b1b9132f-ce6a-432d-bb41-cb23baa54da1",
   "metadata": {},
   "outputs": [
    {
     "ename": "NameError",
     "evalue": "name 'spark' is not defined",
     "output_type": "error",
     "traceback": [
      "\u001b[0;31m---------------------------------------------------------------------------\u001b[0m",
      "\u001b[0;31mNameError\u001b[0m                                 Traceback (most recent call last)",
      "Cell \u001b[0;32mIn[1], line 1\u001b[0m\n\u001b[0;32m----> 1\u001b[0m \u001b[38;5;28mprint\u001b[39m(\u001b[43mspark\u001b[49m)\n",
      "\u001b[0;31mNameError\u001b[0m: name 'spark' is not defined"
     ]
    }
   ],
   "source": [
    "print(spark)"
   ]
  }
 ],
 "metadata": {
  "kernelspec": {
   "display_name": "Python 3 (ipykernel)",
   "language": "python",
   "name": "python3"
  },
  "language_info": {
   "codemirror_mode": {
    "name": "ipython",
    "version": 3
   },
   "file_extension": ".py",
   "mimetype": "text/x-python",
   "name": "python",
   "nbconvert_exporter": "python",
   "pygments_lexer": "ipython3",
   "version": "3.8.10"
  }
 },
 "nbformat": 4,
 "nbformat_minor": 5
}
